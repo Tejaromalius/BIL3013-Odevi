{
 "cells": [
  {
   "cell_type": "code",
   "execution_count": 11,
   "metadata": {},
   "outputs": [],
   "source": [
    "import pandas as pd\n",
    "\n",
    "from bs4 import BeautifulSoup\n",
    "from fake_useragent import UserAgent\n",
    "from selenium import webdriver\n",
    "from selenium.webdriver.common.by import By\n",
    "from selenium.webdriver.firefox.options import Options"
   ]
  },
  {
   "cell_type": "code",
   "execution_count": 3,
   "metadata": {},
   "outputs": [],
   "source": [
    "SEARCH_PAGE_URL_TEMPLATE = \"https://www.sahibinden.com/fiat?pagingOffset={}&pagingSize=50\"\n",
    "search_pages_urls = [SEARCH_PAGE_URL_TEMPLATE.format(number) for number in range(0, 550, 50)]"
   ]
  },
  {
   "cell_type": "code",
   "execution_count": 4,
   "metadata": {},
   "outputs": [],
   "source": [
    "user_agent = UserAgent(os=[\"android\"], browsers=[\"chrome\"]).random\n",
    "\n",
    "options = Options()\n",
    "options.add_argument(\"--width=1530\")\n",
    "options.add_argument(\"--height=1050\")\n",
    "options.set_preference(\"general.useragent.override\", user_agent)"
   ]
  },
  {
   "cell_type": "code",
   "execution_count": 6,
   "metadata": {},
   "outputs": [],
   "source": [
    "search_pages_response = []\n",
    "\n",
    "for url in search_pages_urls:\n",
    "  driver = webdriver.Firefox(options=options)\n",
    "  driver.get(url)\n",
    "  search_pages_response.append(driver.page_source)\n",
    "  driver.quit()"
   ]
  },
  {
   "cell_type": "code",
   "execution_count": 7,
   "metadata": {},
   "outputs": [],
   "source": [
    "advertisement_links = []\n",
    "\n",
    "for content in search_pages_response:\n",
    "  soup = BeautifulSoup(content, \"html.parser\")\n",
    "\n",
    "  search_page_advertisement_cards = soup.find_all(\n",
    "      \"a\", class_=\"search-classified-link mui-btn\")\n",
    "  advertisement_links.extend(card[\"href\"]\n",
    "                            for card in search_page_advertisement_cards)\n",
    "\n",
    "for index, link in enumerate(advertisement_links):\n",
    "  advertisement_links[index] = \"https://www.sahibinden.com\" + link"
   ]
  },
  {
   "cell_type": "code",
   "execution_count": 8,
   "metadata": {},
   "outputs": [],
   "source": [
    "def get_cleaned_details(content):\n",
    "  soup = BeautifulSoup(content, \"html.parser\")\n",
    "  try:\n",
    "    lines = soup.find_all(\"ul\", class_=\"classified-info-list\")\n",
    "    if len(lines) == 0:\n",
    "      return None\n",
    "  except AttributeError:\n",
    "    return None\n",
    "  cleaned_lines = [line.strip() for line in lines[0].text.split(\"\\n\") if line.strip()]\n",
    "  detail = {}\n",
    "\n",
    "  for index, line in enumerate(cleaned_lines[:-1]):\n",
    "    if index % 2 == 0:\n",
    "      detail[line] = cleaned_lines[index + 1]\n",
    "  \n",
    "  return detail"
   ]
  },
  {
   "cell_type": "code",
   "execution_count": null,
   "metadata": {},
   "outputs": [],
   "source": [
    "advertisement_details = []\n",
    "for link in advertisement_links:\n",
    "  driver = webdriver.Firefox(options=options)\n",
    "  driver.get(link)\n",
    "  details = get_cleaned_details(driver.page_source)\n",
    "  if details:\n",
    "    advertisement_details.append(details)\n",
    "    print(details)\n",
    "  driver.quit()"
   ]
  },
  {
   "cell_type": "code",
   "execution_count": null,
   "metadata": {},
   "outputs": [],
   "source": [
    "pd.DataFrame(advertisement_details).to_excel(\"fiat_cars.xlsx\", index=False)"
   ]
  }
 ],
 "metadata": {
  "kernelspec": {
   "display_name": ".venv",
   "language": "python",
   "name": "python3"
  },
  "language_info": {
   "codemirror_mode": {
    "name": "ipython",
    "version": 3
   },
   "file_extension": ".py",
   "mimetype": "text/x-python",
   "name": "python",
   "nbconvert_exporter": "python",
   "pygments_lexer": "ipython3",
   "version": "3.12.3"
  }
 },
 "nbformat": 4,
 "nbformat_minor": 2
}
