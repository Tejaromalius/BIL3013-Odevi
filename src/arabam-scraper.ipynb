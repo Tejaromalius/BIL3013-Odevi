{
 "cells": [
  {
   "cell_type": "code",
   "execution_count": null,
   "metadata": {
    "_cell_guid": "b1076dfc-b9ad-4769-8c92-a6c4dae69d19",
    "_uuid": "8f2839f25d086af736a60e9eeb907d3b93b6e0e5",
    "execution": {
     "iopub.execute_input": "2024-10-16T14:32:36.342435Z",
     "iopub.status.busy": "2024-10-16T14:32:36.341955Z",
     "iopub.status.idle": "2024-10-16T14:32:37.939295Z",
     "shell.execute_reply": "2024-10-16T14:32:37.938008Z",
     "shell.execute_reply.started": "2024-10-16T14:32:36.342389Z"
    },
    "trusted": true
   },
   "outputs": [],
   "source": [
    "import os\n",
    "import time\n",
    "import requests\n",
    "import pandas as pd\n",
    "\n",
    "from bs4 import BeautifulSoup\n",
    "from concurrent.futures import ThreadPoolExecutor, as_completed"
   ]
  },
  {
   "cell_type": "code",
   "execution_count": null,
   "metadata": {
    "execution": {
     "iopub.execute_input": "2024-10-16T14:32:40.137007Z",
     "iopub.status.busy": "2024-10-16T14:32:40.136388Z",
     "iopub.status.idle": "2024-10-16T14:32:40.147184Z",
     "shell.execute_reply": "2024-10-16T14:32:40.145905Z",
     "shell.execute_reply.started": "2024-10-16T14:32:40.136962Z"
    },
    "trusted": true
   },
   "outputs": [],
   "source": [
    "def fetch_urls_response(function, urls):\n",
    "    with ThreadPoolExecutor(max_workers=os.cpu_count()) as executor:\n",
    "        futures = {executor.submit(function, url): url for url in urls}\n",
    "        results = []\n",
    "\n",
    "        for future in as_completed(futures):\n",
    "            url = futures[future]\n",
    "            try:\n",
    "                result = future.result()\n",
    "                if result is False:\n",
    "                    print(f\"Processing failed for URL: {url}\")\n",
    "                    executor.shutdown(wait=False)\n",
    "                    time.sleep(3)\n",
    "                    continue\n",
    "                print(f\"Thread completed for URL: {url}\")\n",
    "                results.append(result)\n",
    "            except Exception as e:\n",
    "                print(f\"Exception occurred for URL: {url}, {e}\")\n",
    "                executor.shutdown(wait=False)\n",
    "                time.sleep(3)\n",
    "                continue\n",
    "\n",
    "        return results"
   ]
  },
  {
   "cell_type": "code",
   "execution_count": null,
   "metadata": {
    "execution": {
     "iopub.execute_input": "2024-10-16T14:32:42.831146Z",
     "iopub.status.busy": "2024-10-16T14:32:42.829944Z",
     "iopub.status.idle": "2024-10-16T14:32:45.676978Z",
     "shell.execute_reply": "2024-10-16T14:32:45.675505Z",
     "shell.execute_reply.started": "2024-10-16T14:32:42.831072Z"
    },
    "trusted": true
   },
   "outputs": [],
   "source": [
    "SEARCH_PAGE_URL_TEMPLATE = \"https://www.arabam.com/ikinci-el/otomobil/fiat?take=50&page={}\"\n",
    "search_pages_urls = [SEARCH_PAGE_URL_TEMPLATE.format(number) for number in range(1, 11)]\n",
    "search_pages_response = fetch_urls_response(lambda url: requests.get(url), search_pages_urls)\n",
    "search_pages_text = [page.text for page in search_pages_response]"
   ]
  },
  {
   "cell_type": "code",
   "execution_count": null,
   "metadata": {
    "execution": {
     "iopub.execute_input": "2024-10-16T14:32:49.570874Z",
     "iopub.status.busy": "2024-10-16T14:32:49.570430Z",
     "iopub.status.idle": "2024-10-16T14:32:54.380489Z",
     "shell.execute_reply": "2024-10-16T14:32:54.378958Z",
     "shell.execute_reply.started": "2024-10-16T14:32:49.570831Z"
    },
    "trusted": true
   },
   "outputs": [],
   "source": [
    "base_url = \"https://www.arabam.com\"\n",
    "advertisement_links = []\n",
    "\n",
    "for page_text in search_pages_text:\n",
    "    soup = BeautifulSoup(page_text, \"html.parser\")\n",
    "    advertisement_cards = soup.find_all(\"td\", class_=\"horizontal-half-padder-minus pr\")\n",
    "\n",
    "    advertisement_links.extend(\n",
    "        base_url + card.find(\"a\")[\"href\"]\n",
    "        for card in advertisement_cards\n",
    "    )"
   ]
  },
  {
   "cell_type": "code",
   "execution_count": null,
   "metadata": {
    "execution": {
     "iopub.execute_input": "2024-10-16T14:33:00.193031Z",
     "iopub.status.busy": "2024-10-16T14:33:00.192603Z",
     "iopub.status.idle": "2024-10-16T14:34:13.160057Z",
     "shell.execute_reply": "2024-10-16T14:34:13.158720Z",
     "shell.execute_reply.started": "2024-10-16T14:33:00.192993Z"
    },
    "trusted": true
   },
   "outputs": [],
   "source": [
    "advertisement_pages_response = fetch_urls_response(lambda url: requests.get(url), advertisement_links)"
   ]
  },
  {
   "cell_type": "code",
   "execution_count": null,
   "metadata": {
    "execution": {
     "iopub.execute_input": "2024-10-16T14:34:29.821575Z",
     "iopub.status.busy": "2024-10-16T14:34:29.821063Z",
     "iopub.status.idle": "2024-10-16T14:34:37.364297Z",
     "shell.execute_reply": "2024-10-16T14:34:37.363183Z",
     "shell.execute_reply.started": "2024-10-16T14:34:29.821527Z"
    },
    "trusted": true
   },
   "outputs": [],
   "source": [
    "advertisements_details = []\n",
    "\n",
    "for response in advertisement_pages_response:\n",
    "    soup = BeautifulSoup(response.text, \"html.parser\")\n",
    "\n",
    "    try:\n",
    "        price = soup.find(\"div\", {\"data-testid\": \"desktop-information-price\"}).text.strip()\n",
    "        lines = soup.find(\"div\", class_=\"product-properties-details linear-gradient\").text.split(\"\\n\")\n",
    "    except AttributeError:\n",
    "        continue\n",
    "\n",
    "    cleaned_lines = [line.strip() for line in lines if line.strip() and line.strip() != \"Kopyalandı\"]\n",
    "\n",
    "    detail = {\n",
    "        cleaned_lines[i]: cleaned_lines[i + 1]\n",
    "        for i in range(0, len(cleaned_lines) - 1, 2)\n",
    "    }\n",
    "    detail[\"Price\"] = price\n",
    "\n",
    "    advertisements_details.append(detail)"
   ]
  },
  {
   "cell_type": "code",
   "execution_count": null,
   "metadata": {
    "execution": {
     "iopub.execute_input": "2024-10-16T14:34:40.520402Z",
     "iopub.status.busy": "2024-10-16T14:34:40.519952Z",
     "iopub.status.idle": "2024-10-16T14:34:40.855701Z",
     "shell.execute_reply": "2024-10-16T14:34:40.854583Z",
     "shell.execute_reply.started": "2024-10-16T14:34:40.520359Z"
    },
    "trusted": true
   },
   "outputs": [],
   "source": [
    "pd.DataFrame(advertisements_details).to_excel(\"fiat_cars.xlsx\")"
   ]
  }
 ],
 "metadata": {
  "kaggle": {
   "accelerator": "none",
   "dataSources": [],
   "isGpuEnabled": false,
   "isInternetEnabled": true,
   "language": "python",
   "sourceType": "notebook"
  },
  "kernelspec": {
   "display_name": ".venv",
   "language": "python",
   "name": "python3"
  },
  "language_info": {
   "codemirror_mode": {
    "name": "ipython",
    "version": 3
   },
   "file_extension": ".py",
   "mimetype": "text/x-python",
   "name": "python",
   "nbconvert_exporter": "python",
   "pygments_lexer": "ipython3",
   "version": "3.12.3"
  }
 },
 "nbformat": 4,
 "nbformat_minor": 4
}
