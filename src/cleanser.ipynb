{
 "cells": [
  {
   "cell_type": "markdown",
   "metadata": {},
   "source": [
    "Bu hücrede, *pandas* kütüphanesi `pd` olarak içe aktarılıyor. Daha sonra, `pd.read_excel` fonksiyonu kullanılarak `\"./fiat_cars.xlsx\"` dosyasından veri yükleniyor. `index_col=0` parametresi, verilerin ilk sütununun satır indeksleri olarak kullanılmasını sağlıyor. Bu sayede veriler daha düzenli bir şekilde işlenebilir."
   ]
  },
  {
   "cell_type": "code",
   "execution_count": 1,
   "metadata": {},
   "outputs": [],
   "source": [
    "import pandas as pd\n",
    "data = pd.read_excel(\"./fiat_cars_raw.xlsx\", index_col=0)"
   ]
  },
  {
   "cell_type": "markdown",
   "metadata": {},
   "source": [
    "Bu hücrede, `data` veri çerçevesinin sütun adları daha açıklayıcı olacak şekilde yeniden adlandırılıyor. `data.rename` fonksiyonu, sütunların eski isimlerini, yeni isimlerle değiştiren bir sözlük (`columns` parametresi) kullanıyor. Örneğin, \"Motor Hacmi\" sütunu \"Motor Hacmi (CC)\" olarak güncelleniyor. Bu işlem, birim bilgilerini ekleyerek sütunları daha anlaşılır hale getiriyor ve verilerin okunabilirliğini artırıyor."
   ]
  },
  {
   "cell_type": "code",
   "execution_count": null,
   "metadata": {},
   "outputs": [],
   "source": [
    "data = data.rename(\n",
    "  columns = {\n",
    "    'Motor Hacmi': 'Motor Hacmi (CC)',\n",
    "    'Motor Gücü': 'Motor Gücü (HP)',\n",
    "    'Ort. Yakıt Tüketimi': 'Ort. Yakıt Tüketimi (Litre)',\n",
    "    'Yakıt Deposu': 'Yakıt Deposu (Litre)',\n",
    "    'Price': 'Price (TL)'\n",
    "  }\n",
    ")"
   ]
  },
  {
   "cell_type": "markdown",
   "metadata": {},
   "source": [
    "Bu hücrede, veri çerçevesindeki eksik değerlere sahip sütunlar analiz edilip belirli kriterlere göre siliniyor:\n",
    "\n",
    "1. İlk satırda, `data.isnull().sum()` ile her sütundaki eksik değer sayısı hesaplanıyor ve `data_set_null_count` adlı bir sözlük olarak kaydediliyor.\n",
    "2. `columns_to_drop` listesi, `data_set_null_count` sözlüğündeki eksik değeri 100'den fazla olan sütun adlarıyla dolduruluyor. Bu işlem, çok fazla eksik değere sahip sütunların belirlenmesi için yapılır.\n",
    "3. Ardından, `Ort. Yakıt Tüketimi (Litre)` sütunu, bu listeden elle çıkarılıyor; bu sütunun korunması isteniyor.\n",
    "4. `data.drop(columns=columns_to_drop)` ifadesiyle seçilen sütunlar veri çerçevesinden siliniyor.\n",
    "5. `reset_index()` ile indeksler sıfırlanıyor ve eski indeks sütunu veri çerçevesinden kaldırılıyor. \n",
    "\n",
    "Bu adımlar, fazla eksik değer içeren sütunları kaldırarak veri setini daha temiz ve analiz için uygun hale getiriyor."
   ]
  },
  {
   "cell_type": "code",
   "execution_count": 3,
   "metadata": {},
   "outputs": [],
   "source": [
    "data_set_null_count = dict(data.isnull().sum())\n",
    "# ['Ort. Yakıt Tüketimi (Litre)', 'Takasa Uygun', 'Ağır Hasarlı']\n",
    "columns_to_drop = [column_name for column_name,\n",
    "                   null_count in data_set_null_count.items() if null_count > 100]\n",
    "\n",
    "columns_to_drop.remove(\"Ort. Yakıt Tüketimi (Litre)\")\n",
    "data = data.drop(columns=columns_to_drop).reset_index().drop(columns=[\"index\"])"
   ]
  },
  {
   "cell_type": "markdown",
   "metadata": {},
   "source": [
    "Bu hücrede, veri setindeki bazı sütunlarda bulunan string (metin) verileri uygun veri tiplerine dönüştürülüyor ve gerektiğinde formatları düzeltiliyor:\n",
    "\n",
    "1. `data[\"İlan No\"] = data[\"İlan No\"].astype(int)`: Bu satırda, \"İlan No\" sütunundaki değerler tam sayıya dönüştürülüyor. Bu sütun muhtemelen sayısal bir kimlik numarası olduğu için bu dönüşüm yapılıyor.\n",
    "\n",
    "2. `data[\"Ort. Yakıt Tüketimi (Litre)\"] = data[\"Ort. Yakıt Tüketimi (Litre)\"].str.replace(',', '.').str.extract(r'(\\d.\\d?)').astype(\"Float32\")`: Bu işlemde, \"Ort. Yakıt Tüketimi (Litre)\" sütunundaki virgül (`,`) işaretleri nokta (`.`) ile değiştirilip, ardından ondalıklı sayı formatındaki ilk değeri çekmek için `str.extract` kullanılıyor. Son olarak, sayılar `Float32` türüne dönüştürülüyor. Bu, litre cinsinden yakıt tüketiminin sayısal değeri için yapılır.\n",
    "\n",
    "3. `data[\"Motor Hacmi (CC)\"] = data[\"Motor Hacmi (CC)\"].str.extract(r'(\\d+)').astype(\"Int64\")`: Bu işlem, \"Motor Hacmi (CC)\" sütunundaki sayıları (motor hacmi) çekiyor ve tam sayı (`Int64`) türüne dönüştürüyor.\n",
    "\n",
    "4. `data[\"Motor Gücü (HP)\"] = data[\"Motor Gücü (HP)\"].str.extract(r'(\\d+)').astype(\"Int64\")`: Aynı şekilde, \"Motor Gücü (HP)\" sütunundaki sayılar (beygir gücü) çıkarılıyor ve tam sayı türüne dönüştürülüyor.\n",
    "\n",
    "5. `data[\"Yakıt Deposu (Litre)\"] = data[\"Yakıt Deposu (Litre)\"].str.extract(r'(\\d+)').astype(\"Int64\")`: \"Yakıt Deposu (Litre)\" sütunundaki litre cinsinden yakıt deposu kapasitesi sayısal verilere dönüştürülüyor.\n",
    "\n",
    "6. `data[\"Price (TL)\"] = data[\"Price (TL)\"].str.extract(r'(\\d+)').astype(\"Int64\") * 1000`: \"Price (TL)\" sütunundaki fiyat verileri önce sayılara dönüştürülüp, ardından bin ile çarpılarak fiyatların tam sayı formatında (TL cinsinden) doğru şekilde hesaplanması sağlanıyor.\n",
    "\n",
    "7. `data[\"Kilometre\"] = data[\"Kilometre\"].str.extract(r'(\\d+)').astype(\"Int64\") * 1000`: \"Kilometre\" sütunundaki mesafe verileri çıkarılıp, sayıya dönüştürülüyor ve sonra 1000 ile çarpılarak doğru ölçekteki kilometre bilgisi elde ediliyor.\n",
    "\n",
    "Bu adımlar, veri setindeki string formatındaki sayıları uygun sayısal veri türlerine dönüştürerek analiz için kullanılabilir hale getiriyor."
   ]
  },
  {
   "cell_type": "code",
   "execution_count": 4,
   "metadata": {},
   "outputs": [],
   "source": [
    "data[\"İlan No\"] = data[\"İlan No\"].astype(int)\n",
    "\n",
    "data[\"Ort. Yakıt Tüketimi (Litre)\"] = data[\"Ort. Yakıt Tüketimi (Litre)\"].str.replace(\n",
    "    ',', '.').str.extract(r'(\\d.\\d?)').astype(\"Float32\")\n",
    "\n",
    "data[\"Motor Hacmi (CC)\"] = data[\"Motor Hacmi (CC)\"].str.extract(\n",
    "    r'(\\d+)').astype(\"Int64\")\n",
    "\n",
    "data[\"Motor Gücü (HP)\"] = data[\"Motor Gücü (HP)\"].str.extract(\n",
    "    r'(\\d+)').astype(\"Int64\")\n",
    "\n",
    "data[\"Yakıt Deposu (Litre)\"] = data[\"Yakıt Deposu (Litre)\"].str.extract(\n",
    "    r'(\\d+)').astype(\"Int64\")\n",
    "\n",
    "data[\"Price (TL)\"] = data[\"Price (TL)\"].str.extract(r'(\\d+)').astype(\"Int64\") * 1000\n",
    "data[\"Kilometre\"] = data[\"Kilometre\"].str.extract(r'(\\d+)').astype(\"Int64\") * 1000"
   ]
  },
  {
   "cell_type": "markdown",
   "metadata": {},
   "source": [
    "Temizlenmiş ve ön hazırlık işlemlerinden geçmiş veriseti 'fiat_cars_cleaned.xlsx' dosyasına Excel formatında kaydederiz."
   ]
  },
  {
   "cell_type": "code",
   "execution_count": null,
   "metadata": {},
   "outputs": [],
   "source": [
    "data.to_excel(\"./fiat_cars_cleaned.xlsx\")"
   ]
  }
 ],
 "metadata": {
  "kernelspec": {
   "display_name": ".venv",
   "language": "python",
   "name": "python3"
  },
  "language_info": {
   "codemirror_mode": {
    "name": "ipython",
    "version": 3
   },
   "file_extension": ".py",
   "mimetype": "text/x-python",
   "name": "python",
   "nbconvert_exporter": "python",
   "pygments_lexer": "ipython3",
   "version": "3.12.3"
  }
 },
 "nbformat": 4,
 "nbformat_minor": 2
}
